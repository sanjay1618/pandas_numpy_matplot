{
  "nbformat": 4,
  "nbformat_minor": 0,
  "metadata": {
    "colab": {
      "provenance": [],
      "mount_file_id": "1etRt9eWGNSu6bWi4mYJCbUm1humEQ36G",
      "authorship_tag": "ABX9TyNC+4cySMzuwvlEqPDyST+g",
      "include_colab_link": true
    },
    "kernelspec": {
      "name": "python3",
      "display_name": "Python 3"
    },
    "language_info": {
      "name": "python"
    }
  },
  "cells": [
    {
      "cell_type": "markdown",
      "metadata": {
        "id": "view-in-github",
        "colab_type": "text"
      },
      "source": [
        "<a href=\"https://colab.research.google.com/github/sanjay1618/pandas_numpy_matplot/blob/main/Tidy_Data_Chapter_4.ipynb\" target=\"_parent\"><img src=\"https://colab.research.google.com/assets/colab-badge.svg\" alt=\"Open In Colab\"/></a>"
      ]
    },
    {
      "cell_type": "code",
      "execution_count": 2,
      "metadata": {
        "id": "_t2kfpl2LxRf"
      },
      "outputs": [],
      "source": [
        "#This notebook is all about the Tidying data from the paper of tidy data and chapter 4 of the pandas for everyone.\n",
        "import pandas as pd\n",
        "import numpy as np"
      ]
    },
    {
      "cell_type": "code",
      "source": [
        "pew=pd.read_csv('/content/drive/MyDrive/Machine Learning/Pandas/pew.csv')\n",
        "print(pew.head())"
      ],
      "metadata": {
        "colab": {
          "base_uri": "https://localhost:8080/"
        },
        "id": "GF3LLjD9Me0v",
        "outputId": "315bf160-2a7f-4f74-c0f2-88e8879bcc5b"
      },
      "execution_count": 5,
      "outputs": [
        {
          "output_type": "stream",
          "name": "stdout",
          "text": [
            "             religion  <$10k  $10-20k  $20-30k  $30-40k  $40-50k  $50-75k  \\\n",
            "0            Agnostic     27       34       60       81       76      137   \n",
            "1             Atheist     12       27       37       52       35       70   \n",
            "2            Buddhist     27       21       30       34       33       58   \n",
            "3            Catholic    418      617      732      670      638     1116   \n",
            "4  Don’t know/refused     15       14       15       11       10       35   \n",
            "\n",
            "   $75-100k  $100-150k  >150k  Don't know/refused  \n",
            "0       122        109     84                  96  \n",
            "1        73         59     74                  76  \n",
            "2        62         39     53                  54  \n",
            "3       949        792    633                1489  \n",
            "4        21         17     18                 116  \n"
          ]
        }
      ]
    },
    {
      "cell_type": "code",
      "source": [
        "pew_long=pew.melt(id_vars='religion',var_name='Income',value_name='Count')\n",
        "print(pew_long)"
      ],
      "metadata": {
        "colab": {
          "base_uri": "https://localhost:8080/"
        },
        "id": "MXj3WlOPUftr",
        "outputId": "1a5a6757-721d-448e-b246-a8ba77b31625"
      },
      "execution_count": 11,
      "outputs": [
        {
          "output_type": "stream",
          "name": "stdout",
          "text": [
            "                  religion              Income  Count\n",
            "0                 Agnostic               <$10k     27\n",
            "1                  Atheist               <$10k     12\n",
            "2                 Buddhist               <$10k     27\n",
            "3                 Catholic               <$10k    418\n",
            "4       Don’t know/refused               <$10k     15\n",
            "..                     ...                 ...    ...\n",
            "175               Orthodox  Don't know/refused     73\n",
            "176        Other Christian  Don't know/refused     18\n",
            "177           Other Faiths  Don't know/refused     71\n",
            "178  Other World Religions  Don't know/refused      8\n",
            "179           Unaffiliated  Don't know/refused    597\n",
            "\n",
            "[180 rows x 3 columns]\n"
          ]
        }
      ]
    }
  ]
}