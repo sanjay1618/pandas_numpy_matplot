{
  "nbformat": 4,
  "nbformat_minor": 0,
  "metadata": {
    "colab": {
      "provenance": []
    },
    "kernelspec": {
      "name": "python3",
      "display_name": "Python 3"
    },
    "language_info": {
      "name": "python"
    }
  },
  "cells": [
    {
      "cell_type": "code",
      "execution_count": 2,
      "metadata": {
        "id": "Zutu9f-5W7pI"
      },
      "outputs": [],
      "source": [
        "import pandas as pd\n",
        "df=pd.read_csv('/content/drive/MyDrive/Machine Learning/Pandas/children_per_woman_total_fertility.csv')\n",
        "\n",
        "\n",
        "\n"
      ]
    },
    {
      "cell_type": "code",
      "source": [
        "series_1=pd.Series(data=['sanjay','x','y','hello'],index=[1,2,3,4]);\n",
        "print(series_1)"
      ],
      "metadata": {
        "colab": {
          "base_uri": "https://localhost:8080/"
        },
        "id": "x4b6MQElU8qz",
        "outputId": "92c64588-632c-4b71-eaa5-c189d9fe2481"
      },
      "execution_count": 3,
      "outputs": [
        {
          "output_type": "stream",
          "name": "stdout",
          "text": [
            "1    sanjay\n",
            "2         x\n",
            "3         y\n",
            "4     hello\n",
            "dtype: object\n"
          ]
        }
      ]
    },
    {
      "cell_type": "code",
      "source": [
        "#creating a dataframe using a dictionary.\n",
        "dict={\n",
        "    'Names':['sanjay','rahul','nanda','dhawan','machine learning'],\n",
        "    'major':['CSS','CSS','ECE','Cricket','CSS'],\n",
        "    'Grades':[20,20,30,12,14]\n",
        "}\n",
        "persons_dataframe=pd.DataFrame(data=dict,index=[1,2,3,4,5],columns=['Names','major','Grades']);\n",
        "print(persons_dataframe);"
      ],
      "metadata": {
        "colab": {
          "base_uri": "https://localhost:8080/"
        },
        "id": "_5ThLj-hVqG4",
        "outputId": "91dbcc00-e4aa-4d9b-e064-0938b3e49052"
      },
      "execution_count": 4,
      "outputs": [
        {
          "output_type": "stream",
          "name": "stdout",
          "text": [
            "              Names    major  Grades\n",
            "1            sanjay      CSS      20\n",
            "2             rahul      CSS      20\n",
            "3             nanda      ECE      30\n",
            "4            dhawan  Cricket      12\n",
            "5  machine learning      CSS      14\n"
          ]
        }
      ]
    },
    {
      "cell_type": "code",
      "source": [
        "# Delving into return type of loc and other ways.\n",
        "first_row_1=persons_dataframe.loc[[2]];\n",
        "print(type(first_row_1))\n",
        "print(first_row_1)\n"
      ],
      "metadata": {
        "colab": {
          "base_uri": "https://localhost:8080/"
        },
        "id": "rtPNtZF8XkI2",
        "outputId": "59cfcbe7-f2c5-411d-e990-0be6197290c7"
      },
      "execution_count": 5,
      "outputs": [
        {
          "output_type": "stream",
          "name": "stdout",
          "text": [
            "<class 'pandas.core.frame.DataFrame'>\n",
            "   Names major  Grades\n",
            "2  rahul   CSS      20\n"
          ]
        }
      ]
    },
    {
      "cell_type": "code",
      "source": [
        "first_row_n=persons_dataframe.loc[2]\n",
        "first_row_n.loc['major']\n",
        "\n",
        "print(first_row_n.keys()[0])"
      ],
      "metadata": {
        "colab": {
          "base_uri": "https://localhost:8080/"
        },
        "id": "bmw9PL16YuvR",
        "outputId": "effc18bd-37da-4cdc-87db-ad680c3e5f18"
      },
      "execution_count": 6,
      "outputs": [
        {
          "output_type": "stream",
          "name": "stdout",
          "text": [
            "Names\n"
          ]
        }
      ]
    },
    {
      "cell_type": "code",
      "source": [
        "grades=persons_dataframe['Grades'];\n",
        "print(grades);\n",
        "condition1=grades>grades.mean();\n",
        "print(condition1);\n"
      ],
      "metadata": {
        "colab": {
          "base_uri": "https://localhost:8080/"
        },
        "id": "mfGTwgXRe4ca",
        "outputId": "0764c1ff-a1af-44d0-98cf-342e4f1df83c"
      },
      "execution_count": 7,
      "outputs": [
        {
          "output_type": "stream",
          "name": "stdout",
          "text": [
            "1    20\n",
            "2    20\n",
            "3    30\n",
            "4    12\n",
            "5    14\n",
            "Name: Grades, dtype: int64\n",
            "1     True\n",
            "2     True\n",
            "3     True\n",
            "4    False\n",
            "5    False\n",
            "Name: Grades, dtype: bool\n"
          ]
        }
      ]
    },
    {
      "cell_type": "code",
      "source": [
        "data1 = {\n",
        "    'Name': [\n",
        "        'Rosaline Franklin', 'William Gosset', 'Florence Nightingale',\n",
        "        'Marie Curie', 'Albert Einstein', 'Ada Lovelace', 'Isaac Newton',\n",
        "        'Grace Hopper', 'Alan Turing', 'Nikola Tesla'\n",
        "    ],\n",
        "    'Born': [\n",
        "        '1920-07-25', '1876-06-13', '1820-05-12', '1867-11-07', '1879-03-14',\n",
        "        '1815-12-10', '1642-01-04', '1906-12-09', '1912-06-23', '1856-07-10'\n",
        "    ],\n",
        "    'Died': [\n",
        "        '1958-04-16', '1937-10-16', '1910-08-13', '1934-07-04', '1955-04-18',\n",
        "        '1852-11-27', '1727-03-31', '1992-01-01', '1954-06-07', '1943-01-07'\n",
        "    ],\n",
        "    'Age': [37, 61, 90, 66, 76, 36, 84, 85, 41, 86],\n",
        "    'Occupation': [\n",
        "        'Chemist', 'Statistician', 'Nurse', 'Chemist', 'Physicist', 'Mathematician',\n",
        "        'Physicist', 'Computer Scientist', 'Mathematician', 'Inventor'\n",
        "    ]\n",
        "}\n",
        "\n",
        "scientists=pd.DataFrame(data=data1)\n",
        "print(scientists)"
      ],
      "metadata": {
        "colab": {
          "base_uri": "https://localhost:8080/"
        },
        "id": "D7oJgtr-lU1m",
        "outputId": "dc2856a3-4f99-47bd-a48b-e3a7b07c1d80"
      },
      "execution_count": 8,
      "outputs": [
        {
          "output_type": "stream",
          "name": "stdout",
          "text": [
            "                   Name        Born        Died  Age          Occupation\n",
            "0     Rosaline Franklin  1920-07-25  1958-04-16   37             Chemist\n",
            "1        William Gosset  1876-06-13  1937-10-16   61        Statistician\n",
            "2  Florence Nightingale  1820-05-12  1910-08-13   90               Nurse\n",
            "3           Marie Curie  1867-11-07  1934-07-04   66             Chemist\n",
            "4       Albert Einstein  1879-03-14  1955-04-18   76           Physicist\n",
            "5          Ada Lovelace  1815-12-10  1852-11-27   36       Mathematician\n",
            "6          Isaac Newton  1642-01-04  1727-03-31   84           Physicist\n",
            "7          Grace Hopper  1906-12-09  1992-01-01   85  Computer Scientist\n",
            "8           Alan Turing  1912-06-23  1954-06-07   41       Mathematician\n",
            "9          Nikola Tesla  1856-07-10  1943-01-07   86            Inventor\n"
          ]
        }
      ]
    },
    {
      "cell_type": "code",
      "source": [
        "first_half=scientists.loc[:4];\n",
        "second_half=scientists.loc[5:];\n",
        "print(first_half);\n",
        "print(first_half.dtypes);"
      ],
      "metadata": {
        "colab": {
          "base_uri": "https://localhost:8080/"
        },
        "id": "VtJGG4RHmwnG",
        "outputId": "c41e124e-ce4c-414d-81d3-f5cf469c8e73"
      },
      "execution_count": 9,
      "outputs": [
        {
          "output_type": "stream",
          "name": "stdout",
          "text": [
            "                   Name        Born        Died  Age    Occupation\n",
            "0     Rosaline Franklin  1920-07-25  1958-04-16   37       Chemist\n",
            "1        William Gosset  1876-06-13  1937-10-16   61  Statistician\n",
            "2  Florence Nightingale  1820-05-12  1910-08-13   90         Nurse\n",
            "3           Marie Curie  1867-11-07  1934-07-04   66       Chemist\n",
            "4       Albert Einstein  1879-03-14  1955-04-18   76     Physicist\n",
            "Name          object\n",
            "Born          object\n",
            "Died          object\n",
            "Age            int64\n",
            "Occupation    object\n",
            "dtype: object\n"
          ]
        }
      ]
    },
    {
      "cell_type": "code",
      "source": [
        "# We can see that Born and Died are string objects and we need to convert them to date-time types.\n",
        "scientists['Died']=pd.to_datetime(scientists['Died'],format='%Y-%m-%d');\n",
        "print(scientists)\n",
        "print(scientists.dtypes)\n"
      ],
      "metadata": {
        "colab": {
          "base_uri": "https://localhost:8080/"
        },
        "id": "slwd4Jdio-Dk",
        "outputId": "e7b957b5-5dd2-4075-a34a-4414674b78a6"
      },
      "execution_count": 10,
      "outputs": [
        {
          "output_type": "stream",
          "name": "stdout",
          "text": [
            "                   Name        Born       Died  Age          Occupation\n",
            "0     Rosaline Franklin  1920-07-25 1958-04-16   37             Chemist\n",
            "1        William Gosset  1876-06-13 1937-10-16   61        Statistician\n",
            "2  Florence Nightingale  1820-05-12 1910-08-13   90               Nurse\n",
            "3           Marie Curie  1867-11-07 1934-07-04   66             Chemist\n",
            "4       Albert Einstein  1879-03-14 1955-04-18   76           Physicist\n",
            "5          Ada Lovelace  1815-12-10 1852-11-27   36       Mathematician\n",
            "6          Isaac Newton  1642-01-04 1727-03-31   84           Physicist\n",
            "7          Grace Hopper  1906-12-09 1992-01-01   85  Computer Scientist\n",
            "8           Alan Turing  1912-06-23 1954-06-07   41       Mathematician\n",
            "9          Nikola Tesla  1856-07-10 1943-01-07   86            Inventor\n",
            "Name                  object\n",
            "Born                  object\n",
            "Died          datetime64[ns]\n",
            "Age                    int64\n",
            "Occupation            object\n",
            "dtype: object\n"
          ]
        }
      ]
    },
    {
      "cell_type": "code",
      "source": [
        "scientists['Born']= [\n",
        "        '1920-07-25', '1876-06-13', '1820-05-12', '1867-11-07', '1879-03-14',\n",
        "        '1815-12-10', '1742-01-04', '1906-12-09', '1912-06-23', '1856-07-10'\n",
        "    ]\n",
        "scientists['Born']=pd.to_datetime(scientists['Born'],format='%Y-%m-%d');\n",
        "scientists['age_born_died']=(scientists['Born']-scientists['Died'])/365;\n",
        "print(scientists)"
      ],
      "metadata": {
        "colab": {
          "base_uri": "https://localhost:8080/"
        },
        "id": "l_rSGk7irz38",
        "outputId": "463f4d95-396c-46a6-ee40-8076a8c1b8eb"
      },
      "execution_count": 11,
      "outputs": [
        {
          "output_type": "stream",
          "name": "stdout",
          "text": [
            "                   Name       Born       Died  Age          Occupation  \\\n",
            "0     Rosaline Franklin 1920-07-25 1958-04-16   37             Chemist   \n",
            "1        William Gosset 1876-06-13 1937-10-16   61        Statistician   \n",
            "2  Florence Nightingale 1820-05-12 1910-08-13   90               Nurse   \n",
            "3           Marie Curie 1867-11-07 1934-07-04   66             Chemist   \n",
            "4       Albert Einstein 1879-03-14 1955-04-18   76           Physicist   \n",
            "5          Ada Lovelace 1815-12-10 1852-11-27   36       Mathematician   \n",
            "6          Isaac Newton 1742-01-04 1727-03-31   84           Physicist   \n",
            "7          Grace Hopper 1906-12-09 1992-01-01   85  Computer Scientist   \n",
            "8           Alan Turing 1912-06-23 1954-06-07   41       Mathematician   \n",
            "9          Nikola Tesla 1856-07-10 1943-01-07   86            Inventor   \n",
            "\n",
            "                 age_born_died  \n",
            "0 -38 days +05:59:00.821917809  \n",
            "1 -62 days +14:51:36.986301370  \n",
            "2 -91 days +16:30:14.794520548  \n",
            "3 -67 days +07:13:58.356164384  \n",
            "4 -77 days +20:30:54.246575343  \n",
            "5 -37 days +00:11:50.136986302  \n",
            "6   14 days 18:36:29.589041095  \n",
            "7 -86 days +21:06:24.657534247  \n",
            "8 -42 days +00:23:40.273972603  \n",
            "9 -87 days +10:47:00.821917809  \n"
          ]
        }
      ]
    },
    {
      "cell_type": "code",
      "source": [
        "scientists_dropped=scientists.drop('age_born_died',axis=\"columns\");\n",
        "print(scientists_dropped)"
      ],
      "metadata": {
        "colab": {
          "base_uri": "https://localhost:8080/"
        },
        "id": "aEsW3WrVuzAj",
        "outputId": "1b0f9b9c-22eb-457f-87b7-aafddb9a12bb"
      },
      "execution_count": 13,
      "outputs": [
        {
          "output_type": "stream",
          "name": "stdout",
          "text": [
            "                   Name       Born       Died  Age          Occupation\n",
            "0     Rosaline Franklin 1920-07-25 1958-04-16   37             Chemist\n",
            "1        William Gosset 1876-06-13 1937-10-16   61        Statistician\n",
            "2  Florence Nightingale 1820-05-12 1910-08-13   90               Nurse\n",
            "3           Marie Curie 1867-11-07 1934-07-04   66             Chemist\n",
            "4       Albert Einstein 1879-03-14 1955-04-18   76           Physicist\n",
            "5          Ada Lovelace 1815-12-10 1852-11-27   36       Mathematician\n",
            "6          Isaac Newton 1742-01-04 1727-03-31   84           Physicist\n",
            "7          Grace Hopper 1906-12-09 1992-01-01   85  Computer Scientist\n",
            "8           Alan Turing 1912-06-23 1954-06-07   41       Mathematician\n",
            "9          Nikola Tesla 1856-07-10 1943-01-07   86            Inventor\n"
          ]
        }
      ]
    }
  ]
}